{
 "cells": [
  {
   "cell_type": "code",
   "execution_count": 70,
   "metadata": {},
   "outputs": [],
   "source": [
    " \n",
    "import pandas as pd\n",
    "import numpy as np\n",
    "import matplotlib\n",
    "import matplotlib.pyplot as plt\n",
    "import seaborn as sns\n",
    "%matplotlib inline\n",
    "from sklearn.model_selection import train_test_split\n",
    "from sklearn.linear_model import LinearRegression\n",
    " \n",
    "\n"
   ]
  },
  {
   "cell_type": "code",
   "execution_count": 71,
   "metadata": {},
   "outputs": [],
   "source": [
    "p=pd.read_csv(r\"C:\\Users\\hp\\Desktop\\kc_house_data.csv\")"
   ]
  },
  {
   "cell_type": "code",
   "execution_count": 72,
   "metadata": {},
   "outputs": [
    {
     "data": {
      "text/html": [
       "<div>\n",
       "<style scoped>\n",
       "    .dataframe tbody tr th:only-of-type {\n",
       "        vertical-align: middle;\n",
       "    }\n",
       "\n",
       "    .dataframe tbody tr th {\n",
       "        vertical-align: top;\n",
       "    }\n",
       "\n",
       "    .dataframe thead th {\n",
       "        text-align: right;\n",
       "    }\n",
       "</style>\n",
       "<table border=\"1\" class=\"dataframe\">\n",
       "  <thead>\n",
       "    <tr style=\"text-align: right;\">\n",
       "      <th></th>\n",
       "      <th>id</th>\n",
       "      <th>date</th>\n",
       "      <th>price</th>\n",
       "      <th>bedrooms</th>\n",
       "      <th>bathrooms</th>\n",
       "      <th>sqft_living</th>\n",
       "      <th>sqft_lot</th>\n",
       "      <th>floors</th>\n",
       "      <th>waterfront</th>\n",
       "      <th>view</th>\n",
       "      <th>...</th>\n",
       "      <th>grade</th>\n",
       "      <th>sqft_above</th>\n",
       "      <th>sqft_basement</th>\n",
       "      <th>yr_built</th>\n",
       "      <th>yr_renovated</th>\n",
       "      <th>zipcode</th>\n",
       "      <th>lat</th>\n",
       "      <th>long</th>\n",
       "      <th>sqft_living15</th>\n",
       "      <th>sqft_lot15</th>\n",
       "    </tr>\n",
       "  </thead>\n",
       "  <tbody>\n",
       "    <tr>\n",
       "      <th>0</th>\n",
       "      <td>7129300520</td>\n",
       "      <td>20141013T000000</td>\n",
       "      <td>221900.0</td>\n",
       "      <td>3</td>\n",
       "      <td>1.00</td>\n",
       "      <td>1180</td>\n",
       "      <td>5650</td>\n",
       "      <td>1.0</td>\n",
       "      <td>0</td>\n",
       "      <td>0</td>\n",
       "      <td>...</td>\n",
       "      <td>7</td>\n",
       "      <td>1180</td>\n",
       "      <td>0</td>\n",
       "      <td>1955</td>\n",
       "      <td>0</td>\n",
       "      <td>98178</td>\n",
       "      <td>47.5112</td>\n",
       "      <td>-122.257</td>\n",
       "      <td>1340</td>\n",
       "      <td>5650</td>\n",
       "    </tr>\n",
       "    <tr>\n",
       "      <th>1</th>\n",
       "      <td>6414100192</td>\n",
       "      <td>20141209T000000</td>\n",
       "      <td>538000.0</td>\n",
       "      <td>3</td>\n",
       "      <td>2.25</td>\n",
       "      <td>2570</td>\n",
       "      <td>7242</td>\n",
       "      <td>2.0</td>\n",
       "      <td>0</td>\n",
       "      <td>0</td>\n",
       "      <td>...</td>\n",
       "      <td>7</td>\n",
       "      <td>2170</td>\n",
       "      <td>400</td>\n",
       "      <td>1951</td>\n",
       "      <td>1991</td>\n",
       "      <td>98125</td>\n",
       "      <td>47.7210</td>\n",
       "      <td>-122.319</td>\n",
       "      <td>1690</td>\n",
       "      <td>7639</td>\n",
       "    </tr>\n",
       "    <tr>\n",
       "      <th>2</th>\n",
       "      <td>5631500400</td>\n",
       "      <td>20150225T000000</td>\n",
       "      <td>180000.0</td>\n",
       "      <td>2</td>\n",
       "      <td>1.00</td>\n",
       "      <td>770</td>\n",
       "      <td>10000</td>\n",
       "      <td>1.0</td>\n",
       "      <td>0</td>\n",
       "      <td>0</td>\n",
       "      <td>...</td>\n",
       "      <td>6</td>\n",
       "      <td>770</td>\n",
       "      <td>0</td>\n",
       "      <td>1933</td>\n",
       "      <td>0</td>\n",
       "      <td>98028</td>\n",
       "      <td>47.7379</td>\n",
       "      <td>-122.233</td>\n",
       "      <td>2720</td>\n",
       "      <td>8062</td>\n",
       "    </tr>\n",
       "    <tr>\n",
       "      <th>3</th>\n",
       "      <td>2487200875</td>\n",
       "      <td>20141209T000000</td>\n",
       "      <td>604000.0</td>\n",
       "      <td>4</td>\n",
       "      <td>3.00</td>\n",
       "      <td>1960</td>\n",
       "      <td>5000</td>\n",
       "      <td>1.0</td>\n",
       "      <td>0</td>\n",
       "      <td>0</td>\n",
       "      <td>...</td>\n",
       "      <td>7</td>\n",
       "      <td>1050</td>\n",
       "      <td>910</td>\n",
       "      <td>1965</td>\n",
       "      <td>0</td>\n",
       "      <td>98136</td>\n",
       "      <td>47.5208</td>\n",
       "      <td>-122.393</td>\n",
       "      <td>1360</td>\n",
       "      <td>5000</td>\n",
       "    </tr>\n",
       "    <tr>\n",
       "      <th>4</th>\n",
       "      <td>1954400510</td>\n",
       "      <td>20150218T000000</td>\n",
       "      <td>510000.0</td>\n",
       "      <td>3</td>\n",
       "      <td>2.00</td>\n",
       "      <td>1680</td>\n",
       "      <td>8080</td>\n",
       "      <td>1.0</td>\n",
       "      <td>0</td>\n",
       "      <td>0</td>\n",
       "      <td>...</td>\n",
       "      <td>8</td>\n",
       "      <td>1680</td>\n",
       "      <td>0</td>\n",
       "      <td>1987</td>\n",
       "      <td>0</td>\n",
       "      <td>98074</td>\n",
       "      <td>47.6168</td>\n",
       "      <td>-122.045</td>\n",
       "      <td>1800</td>\n",
       "      <td>7503</td>\n",
       "    </tr>\n",
       "  </tbody>\n",
       "</table>\n",
       "<p>5 rows × 21 columns</p>\n",
       "</div>"
      ],
      "text/plain": [
       "           id             date     price  bedrooms  bathrooms  sqft_living  \\\n",
       "0  7129300520  20141013T000000  221900.0         3       1.00         1180   \n",
       "1  6414100192  20141209T000000  538000.0         3       2.25         2570   \n",
       "2  5631500400  20150225T000000  180000.0         2       1.00          770   \n",
       "3  2487200875  20141209T000000  604000.0         4       3.00         1960   \n",
       "4  1954400510  20150218T000000  510000.0         3       2.00         1680   \n",
       "\n",
       "   sqft_lot  floors  waterfront  view  ...  grade  sqft_above  sqft_basement  \\\n",
       "0      5650     1.0           0     0  ...      7        1180              0   \n",
       "1      7242     2.0           0     0  ...      7        2170            400   \n",
       "2     10000     1.0           0     0  ...      6         770              0   \n",
       "3      5000     1.0           0     0  ...      7        1050            910   \n",
       "4      8080     1.0           0     0  ...      8        1680              0   \n",
       "\n",
       "   yr_built  yr_renovated  zipcode      lat     long  sqft_living15  \\\n",
       "0      1955             0    98178  47.5112 -122.257           1340   \n",
       "1      1951          1991    98125  47.7210 -122.319           1690   \n",
       "2      1933             0    98028  47.7379 -122.233           2720   \n",
       "3      1965             0    98136  47.5208 -122.393           1360   \n",
       "4      1987             0    98074  47.6168 -122.045           1800   \n",
       "\n",
       "   sqft_lot15  \n",
       "0        5650  \n",
       "1        7639  \n",
       "2        8062  \n",
       "3        5000  \n",
       "4        7503  \n",
       "\n",
       "[5 rows x 21 columns]"
      ]
     },
     "execution_count": 72,
     "metadata": {},
     "output_type": "execute_result"
    }
   ],
   "source": [
    "p.head()"
   ]
  },
  {
   "cell_type": "code",
   "execution_count": 73,
   "metadata": {},
   "outputs": [
    {
     "name": "stdout",
     "output_type": "stream",
     "text": [
      "<class 'pandas.core.frame.DataFrame'>\n",
      "RangeIndex: 21613 entries, 0 to 21612\n",
      "Data columns (total 21 columns):\n",
      " #   Column         Non-Null Count  Dtype  \n",
      "---  ------         --------------  -----  \n",
      " 0   id             21613 non-null  int64  \n",
      " 1   date           21613 non-null  object \n",
      " 2   price          21613 non-null  float64\n",
      " 3   bedrooms       21613 non-null  int64  \n",
      " 4   bathrooms      21613 non-null  float64\n",
      " 5   sqft_living    21613 non-null  int64  \n",
      " 6   sqft_lot       21613 non-null  int64  \n",
      " 7   floors         21613 non-null  float64\n",
      " 8   waterfront     21613 non-null  int64  \n",
      " 9   view           21613 non-null  int64  \n",
      " 10  condition      21613 non-null  int64  \n",
      " 11  grade          21613 non-null  int64  \n",
      " 12  sqft_above     21613 non-null  int64  \n",
      " 13  sqft_basement  21613 non-null  int64  \n",
      " 14  yr_built       21613 non-null  int64  \n",
      " 15  yr_renovated   21613 non-null  int64  \n",
      " 16  zipcode        21613 non-null  int64  \n",
      " 17  lat            21613 non-null  float64\n",
      " 18  long           21613 non-null  float64\n",
      " 19  sqft_living15  21613 non-null  int64  \n",
      " 20  sqft_lot15     21613 non-null  int64  \n",
      "dtypes: float64(5), int64(15), object(1)\n",
      "memory usage: 3.5+ MB\n"
     ]
    }
   ],
   "source": [
    "p.info()"
   ]
  },
  {
   "cell_type": "raw",
   "metadata": {},
   "source": [
    "All values are integers or floats. Thus, there will be no problem in calculating the statistics for each feature."
   ]
  },
  {
   "cell_type": "code",
   "execution_count": 74,
   "metadata": {},
   "outputs": [
    {
     "data": {
      "text/html": [
       "<div>\n",
       "<style scoped>\n",
       "    .dataframe tbody tr th:only-of-type {\n",
       "        vertical-align: middle;\n",
       "    }\n",
       "\n",
       "    .dataframe tbody tr th {\n",
       "        vertical-align: top;\n",
       "    }\n",
       "\n",
       "    .dataframe thead th {\n",
       "        text-align: right;\n",
       "    }\n",
       "</style>\n",
       "<table border=\"1\" class=\"dataframe\">\n",
       "  <thead>\n",
       "    <tr style=\"text-align: right;\">\n",
       "      <th></th>\n",
       "      <th>id</th>\n",
       "      <th>date</th>\n",
       "      <th>price</th>\n",
       "      <th>bedrooms</th>\n",
       "      <th>bathrooms</th>\n",
       "      <th>sqft_living</th>\n",
       "      <th>sqft_lot</th>\n",
       "      <th>floors</th>\n",
       "      <th>waterfront</th>\n",
       "      <th>view</th>\n",
       "      <th>...</th>\n",
       "      <th>grade</th>\n",
       "      <th>sqft_above</th>\n",
       "      <th>sqft_basement</th>\n",
       "      <th>yr_built</th>\n",
       "      <th>yr_renovated</th>\n",
       "      <th>zipcode</th>\n",
       "      <th>lat</th>\n",
       "      <th>long</th>\n",
       "      <th>sqft_living15</th>\n",
       "      <th>sqft_lot15</th>\n",
       "    </tr>\n",
       "  </thead>\n",
       "  <tbody>\n",
       "    <tr>\n",
       "      <th>0</th>\n",
       "      <td>7129300520</td>\n",
       "      <td>20141013T000000</td>\n",
       "      <td>221900.0</td>\n",
       "      <td>3</td>\n",
       "      <td>1.00</td>\n",
       "      <td>1180</td>\n",
       "      <td>5650</td>\n",
       "      <td>1.0</td>\n",
       "      <td>0</td>\n",
       "      <td>0</td>\n",
       "      <td>...</td>\n",
       "      <td>7</td>\n",
       "      <td>1180</td>\n",
       "      <td>0</td>\n",
       "      <td>1955</td>\n",
       "      <td>0</td>\n",
       "      <td>98178</td>\n",
       "      <td>47.5112</td>\n",
       "      <td>-122.257</td>\n",
       "      <td>1340</td>\n",
       "      <td>5650</td>\n",
       "    </tr>\n",
       "    <tr>\n",
       "      <th>1</th>\n",
       "      <td>6414100192</td>\n",
       "      <td>20141209T000000</td>\n",
       "      <td>538000.0</td>\n",
       "      <td>3</td>\n",
       "      <td>2.25</td>\n",
       "      <td>2570</td>\n",
       "      <td>7242</td>\n",
       "      <td>2.0</td>\n",
       "      <td>0</td>\n",
       "      <td>0</td>\n",
       "      <td>...</td>\n",
       "      <td>7</td>\n",
       "      <td>2170</td>\n",
       "      <td>400</td>\n",
       "      <td>1951</td>\n",
       "      <td>1991</td>\n",
       "      <td>98125</td>\n",
       "      <td>47.7210</td>\n",
       "      <td>-122.319</td>\n",
       "      <td>1690</td>\n",
       "      <td>7639</td>\n",
       "    </tr>\n",
       "    <tr>\n",
       "      <th>2</th>\n",
       "      <td>5631500400</td>\n",
       "      <td>20150225T000000</td>\n",
       "      <td>180000.0</td>\n",
       "      <td>2</td>\n",
       "      <td>1.00</td>\n",
       "      <td>770</td>\n",
       "      <td>10000</td>\n",
       "      <td>1.0</td>\n",
       "      <td>0</td>\n",
       "      <td>0</td>\n",
       "      <td>...</td>\n",
       "      <td>6</td>\n",
       "      <td>770</td>\n",
       "      <td>0</td>\n",
       "      <td>1933</td>\n",
       "      <td>0</td>\n",
       "      <td>98028</td>\n",
       "      <td>47.7379</td>\n",
       "      <td>-122.233</td>\n",
       "      <td>2720</td>\n",
       "      <td>8062</td>\n",
       "    </tr>\n",
       "    <tr>\n",
       "      <th>3</th>\n",
       "      <td>2487200875</td>\n",
       "      <td>20141209T000000</td>\n",
       "      <td>604000.0</td>\n",
       "      <td>4</td>\n",
       "      <td>3.00</td>\n",
       "      <td>1960</td>\n",
       "      <td>5000</td>\n",
       "      <td>1.0</td>\n",
       "      <td>0</td>\n",
       "      <td>0</td>\n",
       "      <td>...</td>\n",
       "      <td>7</td>\n",
       "      <td>1050</td>\n",
       "      <td>910</td>\n",
       "      <td>1965</td>\n",
       "      <td>0</td>\n",
       "      <td>98136</td>\n",
       "      <td>47.5208</td>\n",
       "      <td>-122.393</td>\n",
       "      <td>1360</td>\n",
       "      <td>5000</td>\n",
       "    </tr>\n",
       "    <tr>\n",
       "      <th>4</th>\n",
       "      <td>1954400510</td>\n",
       "      <td>20150218T000000</td>\n",
       "      <td>510000.0</td>\n",
       "      <td>3</td>\n",
       "      <td>2.00</td>\n",
       "      <td>1680</td>\n",
       "      <td>8080</td>\n",
       "      <td>1.0</td>\n",
       "      <td>0</td>\n",
       "      <td>0</td>\n",
       "      <td>...</td>\n",
       "      <td>8</td>\n",
       "      <td>1680</td>\n",
       "      <td>0</td>\n",
       "      <td>1987</td>\n",
       "      <td>0</td>\n",
       "      <td>98074</td>\n",
       "      <td>47.6168</td>\n",
       "      <td>-122.045</td>\n",
       "      <td>1800</td>\n",
       "      <td>7503</td>\n",
       "    </tr>\n",
       "  </tbody>\n",
       "</table>\n",
       "<p>5 rows × 21 columns</p>\n",
       "</div>"
      ],
      "text/plain": [
       "           id             date     price  bedrooms  bathrooms  sqft_living  \\\n",
       "0  7129300520  20141013T000000  221900.0         3       1.00         1180   \n",
       "1  6414100192  20141209T000000  538000.0         3       2.25         2570   \n",
       "2  5631500400  20150225T000000  180000.0         2       1.00          770   \n",
       "3  2487200875  20141209T000000  604000.0         4       3.00         1960   \n",
       "4  1954400510  20150218T000000  510000.0         3       2.00         1680   \n",
       "\n",
       "   sqft_lot  floors  waterfront  view  ...  grade  sqft_above  sqft_basement  \\\n",
       "0      5650     1.0           0     0  ...      7        1180              0   \n",
       "1      7242     2.0           0     0  ...      7        2170            400   \n",
       "2     10000     1.0           0     0  ...      6         770              0   \n",
       "3      5000     1.0           0     0  ...      7        1050            910   \n",
       "4      8080     1.0           0     0  ...      8        1680              0   \n",
       "\n",
       "   yr_built  yr_renovated  zipcode      lat     long  sqft_living15  \\\n",
       "0      1955             0    98178  47.5112 -122.257           1340   \n",
       "1      1951          1991    98125  47.7210 -122.319           1690   \n",
       "2      1933             0    98028  47.7379 -122.233           2720   \n",
       "3      1965             0    98136  47.5208 -122.393           1360   \n",
       "4      1987             0    98074  47.6168 -122.045           1800   \n",
       "\n",
       "   sqft_lot15  \n",
       "0        5650  \n",
       "1        7639  \n",
       "2        8062  \n",
       "3        5000  \n",
       "4        7503  \n",
       "\n",
       "[5 rows x 21 columns]"
      ]
     },
     "execution_count": 74,
     "metadata": {},
     "output_type": "execute_result"
    }
   ],
   "source": [
    "p.head(5)"
   ]
  },
  {
   "cell_type": "code",
   "execution_count": 75,
   "metadata": {},
   "outputs": [
    {
     "data": {
      "text/plain": [
       "id               0\n",
       "date             0\n",
       "price            0\n",
       "bedrooms         0\n",
       "bathrooms        0\n",
       "sqft_living      0\n",
       "sqft_lot         0\n",
       "floors           0\n",
       "waterfront       0\n",
       "view             0\n",
       "condition        0\n",
       "grade            0\n",
       "sqft_above       0\n",
       "sqft_basement    0\n",
       "yr_built         0\n",
       "yr_renovated     0\n",
       "zipcode          0\n",
       "lat              0\n",
       "long             0\n",
       "sqft_living15    0\n",
       "sqft_lot15       0\n",
       "dtype: int64"
      ]
     },
     "execution_count": 75,
     "metadata": {},
     "output_type": "execute_result"
    }
   ],
   "source": [
    "p.isnull().sum()"
   ]
  },
  {
   "cell_type": "markdown",
   "metadata": {},
   "source": [
    "There are no missing values for all the dataset."
   ]
  },
  {
   "cell_type": "code",
   "execution_count": 76,
   "metadata": {},
   "outputs": [],
   "source": [
    "p.drop('date',axis=1, inplace=True)\n",
    "p.drop('id',axis=1, inplace=True)\n",
    "p.drop('zipcode',axis=1, inplace=True)\n",
    " "
   ]
  },
  {
   "cell_type": "code",
   "execution_count": 77,
   "metadata": {},
   "outputs": [
    {
     "data": {
      "text/html": [
       "<div>\n",
       "<style scoped>\n",
       "    .dataframe tbody tr th:only-of-type {\n",
       "        vertical-align: middle;\n",
       "    }\n",
       "\n",
       "    .dataframe tbody tr th {\n",
       "        vertical-align: top;\n",
       "    }\n",
       "\n",
       "    .dataframe thead th {\n",
       "        text-align: right;\n",
       "    }\n",
       "</style>\n",
       "<table border=\"1\" class=\"dataframe\">\n",
       "  <thead>\n",
       "    <tr style=\"text-align: right;\">\n",
       "      <th></th>\n",
       "      <th>price</th>\n",
       "      <th>bedrooms</th>\n",
       "      <th>bathrooms</th>\n",
       "      <th>sqft_living</th>\n",
       "      <th>sqft_lot</th>\n",
       "      <th>floors</th>\n",
       "      <th>waterfront</th>\n",
       "      <th>view</th>\n",
       "      <th>condition</th>\n",
       "      <th>grade</th>\n",
       "      <th>sqft_above</th>\n",
       "      <th>sqft_basement</th>\n",
       "      <th>yr_built</th>\n",
       "      <th>yr_renovated</th>\n",
       "      <th>lat</th>\n",
       "      <th>long</th>\n",
       "      <th>sqft_living15</th>\n",
       "      <th>sqft_lot15</th>\n",
       "    </tr>\n",
       "  </thead>\n",
       "  <tbody>\n",
       "    <tr>\n",
       "      <th>count</th>\n",
       "      <td>2.161300e+04</td>\n",
       "      <td>21613.000000</td>\n",
       "      <td>21613.000000</td>\n",
       "      <td>21613.000000</td>\n",
       "      <td>2.161300e+04</td>\n",
       "      <td>21613.000000</td>\n",
       "      <td>21613.000000</td>\n",
       "      <td>21613.000000</td>\n",
       "      <td>21613.000000</td>\n",
       "      <td>21613.000000</td>\n",
       "      <td>21613.000000</td>\n",
       "      <td>21613.000000</td>\n",
       "      <td>21613.000000</td>\n",
       "      <td>21613.000000</td>\n",
       "      <td>21613.000000</td>\n",
       "      <td>21613.000000</td>\n",
       "      <td>21613.000000</td>\n",
       "      <td>21613.000000</td>\n",
       "    </tr>\n",
       "    <tr>\n",
       "      <th>mean</th>\n",
       "      <td>5.400881e+05</td>\n",
       "      <td>3.370842</td>\n",
       "      <td>2.114757</td>\n",
       "      <td>2079.899736</td>\n",
       "      <td>1.510697e+04</td>\n",
       "      <td>1.494309</td>\n",
       "      <td>0.007542</td>\n",
       "      <td>0.234303</td>\n",
       "      <td>3.409430</td>\n",
       "      <td>7.656873</td>\n",
       "      <td>1788.390691</td>\n",
       "      <td>291.509045</td>\n",
       "      <td>1971.005136</td>\n",
       "      <td>84.402258</td>\n",
       "      <td>47.560053</td>\n",
       "      <td>-122.213896</td>\n",
       "      <td>1986.552492</td>\n",
       "      <td>12768.455652</td>\n",
       "    </tr>\n",
       "    <tr>\n",
       "      <th>std</th>\n",
       "      <td>3.671272e+05</td>\n",
       "      <td>0.930062</td>\n",
       "      <td>0.770163</td>\n",
       "      <td>918.440897</td>\n",
       "      <td>4.142051e+04</td>\n",
       "      <td>0.539989</td>\n",
       "      <td>0.086517</td>\n",
       "      <td>0.766318</td>\n",
       "      <td>0.650743</td>\n",
       "      <td>1.175459</td>\n",
       "      <td>828.090978</td>\n",
       "      <td>442.575043</td>\n",
       "      <td>29.373411</td>\n",
       "      <td>401.679240</td>\n",
       "      <td>0.138564</td>\n",
       "      <td>0.140828</td>\n",
       "      <td>685.391304</td>\n",
       "      <td>27304.179631</td>\n",
       "    </tr>\n",
       "    <tr>\n",
       "      <th>min</th>\n",
       "      <td>7.500000e+04</td>\n",
       "      <td>0.000000</td>\n",
       "      <td>0.000000</td>\n",
       "      <td>290.000000</td>\n",
       "      <td>5.200000e+02</td>\n",
       "      <td>1.000000</td>\n",
       "      <td>0.000000</td>\n",
       "      <td>0.000000</td>\n",
       "      <td>1.000000</td>\n",
       "      <td>1.000000</td>\n",
       "      <td>290.000000</td>\n",
       "      <td>0.000000</td>\n",
       "      <td>1900.000000</td>\n",
       "      <td>0.000000</td>\n",
       "      <td>47.155900</td>\n",
       "      <td>-122.519000</td>\n",
       "      <td>399.000000</td>\n",
       "      <td>651.000000</td>\n",
       "    </tr>\n",
       "    <tr>\n",
       "      <th>25%</th>\n",
       "      <td>3.219500e+05</td>\n",
       "      <td>3.000000</td>\n",
       "      <td>1.750000</td>\n",
       "      <td>1427.000000</td>\n",
       "      <td>5.040000e+03</td>\n",
       "      <td>1.000000</td>\n",
       "      <td>0.000000</td>\n",
       "      <td>0.000000</td>\n",
       "      <td>3.000000</td>\n",
       "      <td>7.000000</td>\n",
       "      <td>1190.000000</td>\n",
       "      <td>0.000000</td>\n",
       "      <td>1951.000000</td>\n",
       "      <td>0.000000</td>\n",
       "      <td>47.471000</td>\n",
       "      <td>-122.328000</td>\n",
       "      <td>1490.000000</td>\n",
       "      <td>5100.000000</td>\n",
       "    </tr>\n",
       "    <tr>\n",
       "      <th>50%</th>\n",
       "      <td>4.500000e+05</td>\n",
       "      <td>3.000000</td>\n",
       "      <td>2.250000</td>\n",
       "      <td>1910.000000</td>\n",
       "      <td>7.618000e+03</td>\n",
       "      <td>1.500000</td>\n",
       "      <td>0.000000</td>\n",
       "      <td>0.000000</td>\n",
       "      <td>3.000000</td>\n",
       "      <td>7.000000</td>\n",
       "      <td>1560.000000</td>\n",
       "      <td>0.000000</td>\n",
       "      <td>1975.000000</td>\n",
       "      <td>0.000000</td>\n",
       "      <td>47.571800</td>\n",
       "      <td>-122.230000</td>\n",
       "      <td>1840.000000</td>\n",
       "      <td>7620.000000</td>\n",
       "    </tr>\n",
       "    <tr>\n",
       "      <th>75%</th>\n",
       "      <td>6.450000e+05</td>\n",
       "      <td>4.000000</td>\n",
       "      <td>2.500000</td>\n",
       "      <td>2550.000000</td>\n",
       "      <td>1.068800e+04</td>\n",
       "      <td>2.000000</td>\n",
       "      <td>0.000000</td>\n",
       "      <td>0.000000</td>\n",
       "      <td>4.000000</td>\n",
       "      <td>8.000000</td>\n",
       "      <td>2210.000000</td>\n",
       "      <td>560.000000</td>\n",
       "      <td>1997.000000</td>\n",
       "      <td>0.000000</td>\n",
       "      <td>47.678000</td>\n",
       "      <td>-122.125000</td>\n",
       "      <td>2360.000000</td>\n",
       "      <td>10083.000000</td>\n",
       "    </tr>\n",
       "    <tr>\n",
       "      <th>max</th>\n",
       "      <td>7.700000e+06</td>\n",
       "      <td>33.000000</td>\n",
       "      <td>8.000000</td>\n",
       "      <td>13540.000000</td>\n",
       "      <td>1.651359e+06</td>\n",
       "      <td>3.500000</td>\n",
       "      <td>1.000000</td>\n",
       "      <td>4.000000</td>\n",
       "      <td>5.000000</td>\n",
       "      <td>13.000000</td>\n",
       "      <td>9410.000000</td>\n",
       "      <td>4820.000000</td>\n",
       "      <td>2015.000000</td>\n",
       "      <td>2015.000000</td>\n",
       "      <td>47.777600</td>\n",
       "      <td>-121.315000</td>\n",
       "      <td>6210.000000</td>\n",
       "      <td>871200.000000</td>\n",
       "    </tr>\n",
       "  </tbody>\n",
       "</table>\n",
       "</div>"
      ],
      "text/plain": [
       "              price      bedrooms     bathrooms   sqft_living      sqft_lot  \\\n",
       "count  2.161300e+04  21613.000000  21613.000000  21613.000000  2.161300e+04   \n",
       "mean   5.400881e+05      3.370842      2.114757   2079.899736  1.510697e+04   \n",
       "std    3.671272e+05      0.930062      0.770163    918.440897  4.142051e+04   \n",
       "min    7.500000e+04      0.000000      0.000000    290.000000  5.200000e+02   \n",
       "25%    3.219500e+05      3.000000      1.750000   1427.000000  5.040000e+03   \n",
       "50%    4.500000e+05      3.000000      2.250000   1910.000000  7.618000e+03   \n",
       "75%    6.450000e+05      4.000000      2.500000   2550.000000  1.068800e+04   \n",
       "max    7.700000e+06     33.000000      8.000000  13540.000000  1.651359e+06   \n",
       "\n",
       "             floors    waterfront          view     condition         grade  \\\n",
       "count  21613.000000  21613.000000  21613.000000  21613.000000  21613.000000   \n",
       "mean       1.494309      0.007542      0.234303      3.409430      7.656873   \n",
       "std        0.539989      0.086517      0.766318      0.650743      1.175459   \n",
       "min        1.000000      0.000000      0.000000      1.000000      1.000000   \n",
       "25%        1.000000      0.000000      0.000000      3.000000      7.000000   \n",
       "50%        1.500000      0.000000      0.000000      3.000000      7.000000   \n",
       "75%        2.000000      0.000000      0.000000      4.000000      8.000000   \n",
       "max        3.500000      1.000000      4.000000      5.000000     13.000000   \n",
       "\n",
       "         sqft_above  sqft_basement      yr_built  yr_renovated           lat  \\\n",
       "count  21613.000000   21613.000000  21613.000000  21613.000000  21613.000000   \n",
       "mean    1788.390691     291.509045   1971.005136     84.402258     47.560053   \n",
       "std      828.090978     442.575043     29.373411    401.679240      0.138564   \n",
       "min      290.000000       0.000000   1900.000000      0.000000     47.155900   \n",
       "25%     1190.000000       0.000000   1951.000000      0.000000     47.471000   \n",
       "50%     1560.000000       0.000000   1975.000000      0.000000     47.571800   \n",
       "75%     2210.000000     560.000000   1997.000000      0.000000     47.678000   \n",
       "max     9410.000000    4820.000000   2015.000000   2015.000000     47.777600   \n",
       "\n",
       "               long  sqft_living15     sqft_lot15  \n",
       "count  21613.000000   21613.000000   21613.000000  \n",
       "mean    -122.213896    1986.552492   12768.455652  \n",
       "std        0.140828     685.391304   27304.179631  \n",
       "min     -122.519000     399.000000     651.000000  \n",
       "25%     -122.328000    1490.000000    5100.000000  \n",
       "50%     -122.230000    1840.000000    7620.000000  \n",
       "75%     -122.125000    2360.000000   10083.000000  \n",
       "max     -121.315000    6210.000000  871200.000000  "
      ]
     },
     "execution_count": 77,
     "metadata": {},
     "output_type": "execute_result"
    }
   ],
   "source": [
    "p.describe()"
   ]
  },
  {
   "cell_type": "code",
   "execution_count": 78,
   "metadata": {},
   "outputs": [
    {
     "data": {
      "text/plain": [
       "<matplotlib.axes._subplots.AxesSubplot at 0x1f386759c48>"
      ]
     },
     "execution_count": 78,
     "metadata": {},
     "output_type": "execute_result"
    },
    {
     "data": {
      "image/png": "[encoded data removed]",
      "text/plain": [
       "<Figure size 1080x1080 with 2 Axes>"
      ]
     },
     "metadata": {
      "needs_background": "light"
     },
     "output_type": "display_data"
    }
   ],
   "source": [
    " plt.figure(figsize=(15,15))\n",
    "sns.heatmap(p.corr(),annot=True)"
   ]
  },
  {
   "cell_type": "code",
   "execution_count": 79,
   "metadata": {},
   "outputs": [
    {
     "name": "stdout",
     "output_type": "stream",
     "text": [
      "price            1.000000\n",
      "bathrooms        0.525138\n",
      "sqft_living      0.702035\n",
      "grade            0.667434\n",
      "sqft_above       0.605567\n",
      "sqft_living15    0.585379\n",
      "Name: price, dtype: float64\n"
     ]
    }
   ],
   "source": [
    "cor=p.corr() \n",
    "cor2=abs(cor[\"price\"])\n",
    "t= cor2[cor2>0.5]\n",
    "print(t)"
   ]
  },
  {
   "cell_type": "raw",
   "metadata": {},
   "source": [
    "1/ On the basis of the correlation matrix, it has been found that:\n",
    "- The price is highly and positively correlated with the sqft living and the grade.\n",
    "- It is also positively correlated with the sqft above and the sqft_living15.\n",
    "- There is a low positive correlation between the price and the features: number of floors, number of bathrooms,the waterfront, latitude  and the sqft basement.\n",
    "- There is a very low positive correlation between the price and the sqft lot15,long, condition and year built.\n",
    "\n",
    "2/ Many features are correlated. As an example, Grade is positively correlated with the sqftliving, number of bathrooms,sqft above and sqft_living15 \n",
    "\n",
    "3/ the three features sqft living, sqft above and sqft_living 15 are highly correlated with each other. In order to avoid multicollinearity, we keep only the variable sqft living which is the most correlated with price (0.7020). Thus, we have finally, three chosen features: sqft_living, grade and bathrooms.\n"
   ]
  },
  {
   "cell_type": "code",
   "execution_count": 80,
   "metadata": {},
   "outputs": [
    {
     "data": {
      "text/plain": [
       "{'whiskers': [<matplotlib.lines.Line2D at 0x1f38894eb88>,\n",
       "  <matplotlib.lines.Line2D at 0x1f38894ecc8>],\n",
       " 'caps': [<matplotlib.lines.Line2D at 0x1f388955cc8>,\n",
       "  <matplotlib.lines.Line2D at 0x1f388955e08>],\n",
       " 'boxes': [<matplotlib.lines.Line2D at 0x1f38894e108>],\n",
       " 'medians': [<matplotlib.lines.Line2D at 0x1f388930dc8>],\n",
       " 'fliers': [<matplotlib.lines.Line2D at 0x1f388930f08>],\n",
       " 'means': []}"
      ]
     },
     "execution_count": 80,
     "metadata": {},
     "output_type": "execute_result"
    },
    {
     "data": {
      "image/png": "[encoded data removed]",
      "text/plain": [
       "<Figure size 432x288 with 1 Axes>"
      ]
     },
     "metadata": {
      "needs_background": "light"
     },
     "output_type": "display_data"
    }
   ],
   "source": [
    "plt.boxplot(p['price'])"
   ]
  },
  {
   "cell_type": "raw",
   "metadata": {},
   "source": [
    "There are so many outliers for the feature price."
   ]
  },
  {
   "cell_type": "code",
   "execution_count": 81,
   "metadata": {},
   "outputs": [
    {
     "data": {
      "text/plain": [
       "<matplotlib.collections.PathCollection at 0x1f388971248>"
      ]
     },
     "execution_count": 81,
     "metadata": {},
     "output_type": "execute_result"
    },
    {
     "data": {
      "image/png": "[encoded data removed]",
      "text/plain": [
       "<Figure size 1440x360 with 1 Axes>"
      ]
     },
     "metadata": {
      "needs_background": "light"
     },
     "output_type": "display_data"
    }
   ],
   "source": [
    "plt.figure(figsize=(20,5))\n",
    " \n",
    "plt.title(\"distribution of sqft living and price\")\n",
    "plt.scatter(p['sqft_living'],p['price'])\n",
    " "
   ]
  },
  {
   "cell_type": "code",
   "execution_count": null,
   "metadata": {},
   "outputs": [],
   "source": []
  },
  {
   "cell_type": "raw",
   "metadata": {},
   "source": [
    "the correlation between price and sqft living is linear."
   ]
  },
  {
   "cell_type": "raw",
   "metadata": {},
   "source": [
    "As it was mentioned above, there is no high correlation between latitude and price."
   ]
  },
  {
   "cell_type": "code",
   "execution_count": 82,
   "metadata": {},
   "outputs": [
    {
     "data": {
      "text/plain": [
       "<matplotlib.axes._subplots.AxesSubplot at 0x1f3889f0908>"
      ]
     },
     "execution_count": 82,
     "metadata": {},
     "output_type": "execute_result"
    },
    {
     "data": {
      "image/png": "[encoded data removed]",
      "text/plain": [
       "<Figure size 1080x360 with 1 Axes>"
      ]
     },
     "metadata": {
      "needs_background": "light"
     },
     "output_type": "display_data"
    }
   ],
   "source": [
    "plt.figure(figsize=(15,5))\n",
    " \n",
    "sns.countplot(data=p,x='grade')\n",
    " \n",
    " "
   ]
  },
  {
   "cell_type": "code",
   "execution_count": 83,
   "metadata": {},
   "outputs": [
    {
     "data": {
      "text/plain": [
       "<matplotlib.axes._subplots.AxesSubplot at 0x1f388a94708>"
      ]
     },
     "execution_count": 83,
     "metadata": {},
     "output_type": "execute_result"
    },
    {
     "data": {
      "image/png": "[encoded data removed]",
      "text/plain": [
       "<Figure size 1440x360 with 1 Axes>"
      ]
     },
     "metadata": {
      "needs_background": "light"
     },
     "output_type": "display_data"
    }
   ],
   "source": [
    "plt.figure(figsize=(20,5))\n",
    " \n",
    "sns.boxplot(data=p,x='grade',y='price')\n",
    " "
   ]
  },
  {
   "cell_type": "raw",
   "metadata": {},
   "source": [
    "There is a poitive link between grade and price. Also, the view seems to affect positively the price."
   ]
  },
  {
   "cell_type": "raw",
   "metadata": {},
   "source": [
    "There is no linear relationship between the number of floors and the price. \n",
    "Houses that have a water front are more expensive than houses that do not."
   ]
  },
  {
   "cell_type": "code",
   "execution_count": 84,
   "metadata": {},
   "outputs": [
    {
     "data": {
      "text/plain": [
       "<matplotlib.axes._subplots.AxesSubplot at 0x1f3894472c8>"
      ]
     },
     "execution_count": 84,
     "metadata": {},
     "output_type": "execute_result"
    },
    {
     "data": {
      "image/png": "[encoded data removed]",
      "text/plain": [
       "<Figure size 1440x360 with 1 Axes>"
      ]
     },
     "metadata": {
      "needs_background": "light"
     },
     "output_type": "display_data"
    }
   ],
   "source": [
    "plt.figure(figsize=(20,5))\n",
    " \n",
    "sns.boxplot(data=p,x='bathrooms',y='price')"
   ]
  },
  {
   "cell_type": "markdown",
   "metadata": {},
   "source": [
    "The number of bedrooms do not seem to affect much the price. However, it seems that houses that have so many bathrooms are much more expensive."
   ]
  },
  {
   "cell_type": "code",
   "execution_count": 85,
   "metadata": {},
   "outputs": [
    {
     "data": {
      "text/plain": [
       "Index(['price', 'bedrooms', 'bathrooms', 'sqft_living', 'sqft_lot', 'floors',\n",
       "       'waterfront', 'view', 'condition', 'grade', 'sqft_above',\n",
       "       'sqft_basement', 'yr_built', 'yr_renovated', 'lat', 'long',\n",
       "       'sqft_living15', 'sqft_lot15'],\n",
       "      dtype='object')"
      ]
     },
     "execution_count": 85,
     "metadata": {},
     "output_type": "execute_result"
    }
   ],
   "source": [
    "p.columns"
   ]
  },
  {
   "cell_type": "code",
   "execution_count": 86,
   "metadata": {},
   "outputs": [],
   "source": [
    "from sklearn.model_selection import train_test_split\n",
    "from sklearn.linear_model import LinearRegression\n",
    "from sklearn .preprocessing import PolynomialFeatures \n",
    "from sklearn import metrics\n"
   ]
  },
  {
   "cell_type": "code",
   "execution_count": 87,
   "metadata": {},
   "outputs": [
    {
     "name": "stdout",
     "output_type": "stream",
     "text": [
      "R²=  0.5073460545260231\n",
      "MSE=  71973967322.16974\n",
      "[277.36412987]\n",
      "-36738.177346381824\n"
     ]
    }
   ],
   "source": [
    "x=p[['sqft_living']]\n",
    "y=p['price']  \n",
    "x_train, x_test, y_train, y_test = train_test_split(x,y, test_size=0.2, random_state=10)\n",
    "sr=LinearRegression()\n",
    "sr.fit(x_train,y_train)\n",
    "predicted=sr.predict(x_test) \n",
    "print(\"R²= \", metrics.r2_score(y_test, predicted))\n",
    "print(\"MSE= \", metrics.mean_squared_error(y_test, predicted))\n",
    "print(sr.coef_)\n",
    "print(sr.intercept_)\n",
    " \n",
    " "
   ]
  },
  {
   "cell_type": "raw",
   "metadata": {},
   "source": [
    "The feature sqft_living explains 50,73% of the variance of the price."
   ]
  },
  {
   "cell_type": "code",
   "execution_count": 88,
   "metadata": {},
   "outputs": [
    {
     "name": "stdout",
     "output_type": "stream",
     "text": [
      "R²=  0.40820979514000777\n",
      "MSE=  86457216586.77571\n",
      "[208897.05061241]\n",
      "-1060845.6996012996\n"
     ]
    }
   ],
   "source": [
    "x=p[['grade']]\n",
    "y=p['price']  \n",
    "x_train, x_test, y_train, y_test = train_test_split(x,y, test_size=0.2, random_state=10)\n",
    "sr=LinearRegression()\n",
    "sr.fit(x_train,y_train)\n",
    "predicted=sr.predict(x_test) \n",
    "print(\"R²= \", metrics.r2_score(y_test, predicted))\n",
    "print(\"MSE= \", metrics.mean_squared_error(y_test, predicted))\n",
    "print(sr.coef_)\n",
    "print(sr.intercept_)\n",
    " "
   ]
  },
  {
   "cell_type": "markdown",
   "metadata": {},
   "source": [
    "The feature sqft_living explains 40.82% of the variance of the price."
   ]
  },
  {
   "cell_type": "code",
   "execution_count": 89,
   "metadata": {},
   "outputs": [
    {
     "name": "stdout",
     "output_type": "stream",
     "text": [
      "R²=  0.28108352004075476\n",
      "MSE=  105029649536.60196\n",
      "[246523.89187686]\n",
      "18632.78984939243\n"
     ]
    }
   ],
   "source": [
    "x=p[['bathrooms']]\n",
    "y=p['price']  \n",
    "x_train, x_test, y_train, y_test = train_test_split(x,y, test_size=0.2, random_state=10)\n",
    "sr=LinearRegression()\n",
    "sr.fit(x_train,y_train)\n",
    "predicted=sr.predict(x_test) \n",
    "print(\"R²= \", metrics.r2_score(y_test, predicted))\n",
    "print(\"MSE= \", metrics.mean_squared_error(y_test, predicted))\n",
    "print(sr.coef_)\n",
    "print(sr.intercept_)"
   ]
  },
  {
   "cell_type": "raw",
   "metadata": {},
   "source": [
    "The feature bathrooms explains 28.10% of the variance of the price."
   ]
  },
  {
   "cell_type": "code",
   "execution_count": 90,
   "metadata": {},
   "outputs": [
    {
     "name": "stdout",
     "output_type": "stream",
     "text": [
      "R²=  0.5305320858336191\n",
      "MSE=  68586618707.59973\n",
      "[-38937.09704369    194.21265659 109877.64768095]\n",
      "-623534.3225133604\n"
     ]
    }
   ],
   "source": [
    "x=p[[  'bathrooms', 'sqft_living' , 'grade' ]]\n",
    "y=p['price']  \n",
    "x_train, x_test, y_train, y_test = train_test_split(x,y, test_size=0.2, random_state=10)\n",
    "sr=LinearRegression()\n",
    "sr.fit(x_train,y_train)\n",
    "predicted=sr.predict(x_test) \n",
    "print(\"R²= \", metrics.r2_score(y_test, predicted))\n",
    "print(\"MSE= \", metrics.mean_squared_error(y_test, predicted))\n",
    "print(sr.coef_)\n",
    "print(sr.intercept_)"
   ]
  },
  {
   "cell_type": "raw",
   "metadata": {},
   "source": [
    "When the three features were added, the explanatory power of the model jumped to 53.053%."
   ]
  },
  {
   "cell_type": "code",
   "execution_count": 91,
   "metadata": {},
   "outputs": [
    {
     "name": "stdout",
     "output_type": "stream",
     "text": [
      "R²=  0.6973676152179044\n",
      "MSE=  44212887307.704315\n",
      "[-3.29852290e+04  3.96239427e+04  1.01905164e+02  8.27228836e-02\n",
      " -3.03937143e+03  5.63682708e+05  4.98891434e+04  3.18818442e+04\n",
      "  1.01501064e+05  6.82127571e+01  3.36924067e+01 -2.36395767e+03\n",
      "  1.63544124e+01  5.55651531e+05 -1.20347155e+05  3.27181396e+01\n",
      " -3.45729775e-01]\n",
      "-37213689.2600116\n"
     ]
    }
   ],
   "source": [
    "x=p.drop(\"price\", axis=1)\n",
    "y=p['price']\n",
    "x_train, x_test, y_train, y_test = train_test_split(x,y, test_size=0.2, random_state=10)\n",
    "sr=LinearRegression()\n",
    "sr.fit(x_train,y_train)\n",
    "predicted=sr.predict(x_test) \n",
    "print(\"R²= \", metrics.r2_score(y_test, predicted))\n",
    "print(\"MSE= \", metrics.mean_squared_error(y_test, predicted))\n",
    "print(sr.coef_)\n",
    "print(sr.intercept_)"
   ]
  },
  {
   "cell_type": "raw",
   "metadata": {},
   "source": [
    "When all features were added, the explanatory power of the model jumped to 69.73%."
   ]
  },
  {
   "cell_type": "code",
   "execution_count": 92,
   "metadata": {},
   "outputs": [
    {
     "name": "stdout",
     "output_type": "stream",
     "text": [
      "R²=  0.5855591668874294\n",
      "MSE=  60547472020.586075\n",
      "[0.00000000e+00 9.31721994e+01 3.37454932e-02]\n",
      "172106.56010560453\n"
     ]
    }
   ],
   "source": [
    "x=p[[  'sqft_living' ]]\n",
    "y=p['price'] \n",
    "x_train, x_test, y_train, y_test = train_test_split(x,y, test_size=0.2, random_state=10)\n",
    "lg=LinearRegression()\n",
    "poly=PolynomialFeatures(degree=2)\n",
    "xtr2 =poly.fit_transform(x_train)\n",
    "xtst2=poly.fit_transform(x_test)\n",
    "lg.fit(xtr2 , y_train)\n",
    "predicted=lg.predict(xtst2)\n",
    "\n",
    "print(\"R²= \", metrics.r2_score(y_test, predicted))\n",
    "print(\"MSE= \", metrics.mean_squared_error(y_test, predicted))\n",
    "print(lg.coef_)\n",
    "print(lg.intercept_)"
   ]
  },
  {
   "cell_type": "markdown",
   "metadata": {},
   "source": [
    "when we used the polynomial version of the model with only one feature (sqft living), the model captures 58.55% of the variance of the price which is higher than the R²  in the linear model (50.73%)."
   ]
  },
  {
   "cell_type": "code",
   "execution_count": 93,
   "metadata": {},
   "outputs": [
    {
     "name": "stdout",
     "output_type": "stream",
     "text": [
      "R²=  0.47995111094793075\n",
      "MSE=  75976214319.26894\n",
      "[      0.         -469221.61789175   41703.50888524]\n",
      "1629270.0543399942\n"
     ]
    }
   ],
   "source": [
    "x=p[['grade' ]]\n",
    "y=p['price']  \n",
    "x_train, x_test, y_train, y_test = train_test_split(x,y, test_size=0.2, random_state=10)\n",
    "lg=LinearRegression()\n",
    "poly=PolynomialFeatures(degree=2)\n",
    "xtr2 =poly.fit_transform(x_train)\n",
    "xtst2=poly.fit_transform(x_test)\n",
    "lg.fit(xtr2 , y_train)\n",
    "predicted=lg.predict(xtst2)\n",
    "\n",
    "print(\"R²= \", metrics.r2_score(y_test, predicted))\n",
    "print(\"MSE= \", metrics.mean_squared_error(y_test, predicted))\n",
    "print(lg.coef_)\n",
    "print(lg.intercept_)\n",
    " "
   ]
  },
  {
   "cell_type": "markdown",
   "metadata": {},
   "source": [
    "when we used the polynomial version of the model with only one feature (grade), the model captures 47.99% of the variance of the price"
   ]
  },
  {
   "cell_type": "code",
   "execution_count": 94,
   "metadata": {},
   "outputs": [
    {
     "name": "stdout",
     "output_type": "stream",
     "text": [
      "R²=  0.37763318747759245\n",
      "MSE=  90924286790.79121\n",
      "[      0.         -119645.63835595   79106.31410561]\n",
      "392152.2546767428\n"
     ]
    }
   ],
   "source": [
    "x=p[['bathrooms' ]]\n",
    "y=p['price']  \n",
    "x_train, x_test, y_train, y_test = train_test_split(x,y, test_size=0.2, random_state=10)\n",
    "lg=LinearRegression()\n",
    "poly=PolynomialFeatures(degree=2)\n",
    "xtr2 =poly.fit_transform(x_train)\n",
    "xtst2=poly.fit_transform(x_test)\n",
    "lg.fit(xtr2 , y_train)\n",
    "predicted=lg.predict(xtst2)\n",
    "\n",
    "print(\"R²= \", metrics.r2_score(y_test, predicted))\n",
    "print(\"MSE= \", metrics.mean_squared_error(y_test, predicted))\n",
    "print(lg.coef_)\n",
    "print(lg.intercept_)"
   ]
  },
  {
   "cell_type": "raw",
   "metadata": {},
   "source": [
    "when we used the polynomial version of the model with only one feature (bathrooms), the model captures 37.76% of the variance of the price"
   ]
  },
  {
   "cell_type": "code",
   "execution_count": 95,
   "metadata": {},
   "outputs": [
    {
     "name": "stdout",
     "output_type": "stream",
     "text": [
      "R²=  0.6116246437957353\n",
      "MSE=  56739452617.777336\n",
      "[ 0.00000000e+00 -1.49543552e+05 -3.10384177e+03 -2.18983304e+02\n",
      "  2.27300197e+04  7.60564049e+03 -9.48980839e+00 -1.34892380e+03\n",
      "  5.16143365e+01 -5.68849947e-03]\n",
      "384641.5305147944\n"
     ]
    }
   ],
   "source": [
    "x=p[['bathrooms','grade','sqft_living' ]]\n",
    "y= p['price'] \n",
    "x_train, x_test, y_train, y_test = train_test_split(x,y, test_size=0.2, random_state=10)\n",
    "lg=LinearRegression()\n",
    "poly=PolynomialFeatures(degree=2)\n",
    "xtr2 =poly.fit_transform(x_train)\n",
    "xtst2=poly.fit_transform(x_test)\n",
    "lg.fit(xtr2 , y_train)\n",
    "predicted=lg.predict(xtst2)\n",
    "\n",
    "print(\"R²= \", metrics.r2_score(y_test, predicted))\n",
    "print(\"MSE= \", metrics.mean_squared_error(y_test, predicted))\n",
    "print(lg.coef_)\n",
    "print(lg.intercept_)"
   ]
  },
  {
   "cell_type": "markdown",
   "metadata": {},
   "source": [
    "In the polynomial model, when the three features  were added, the model explains 61.16% of the variance of the price. Thus, this developed version of the model has a high explanatory power of the price."
   ]
  },
  {
   "cell_type": "code",
   "execution_count": 96,
   "metadata": {},
   "outputs": [
    {
     "name": "stdout",
     "output_type": "stream",
     "text": [
      "R²=  0.807772166599668\n",
      "MSE=  28083404033.750492\n",
      "[ 2.55034418e+03  1.77988359e+07 -6.35095573e+06 -1.42214975e+04\n",
      "  1.61049750e+02  9.45485917e+06  3.67392116e+07  4.28029514e+06\n",
      "  2.00025808e+06 -2.73658383e+07 -2.81713911e+04 -1.51237461e+04\n",
      "  7.43227188e+05  1.22871498e+04  1.13293265e+08  9.39750726e+06\n",
      " -5.86157955e+03  2.35676424e+02  1.13192770e+03  8.37897105e+02\n",
      " -1.01126186e+01  7.25785838e-02  2.18655120e+04 -6.57107441e+04\n",
      "  4.73138087e+03 -3.62029466e+03  2.85032677e+03 -1.78574937e+01\n",
      " -1.14792021e+01 -5.36107661e+02  2.46525670e+01 -3.58939677e+04\n",
      "  1.23164498e+05  5.44831457e+00  6.85190399e-02 -9.36048138e+03\n",
      "  1.20061325e+01 -5.80261055e-01 -2.25149024e+04  1.06341071e+05\n",
      "  7.22117884e+02 -1.47130833e+04  7.85505747e+03  1.48493839e+01\n",
      "  1.10894456e+00  2.95405407e+02 -2.62181607e+01  4.23345574e+04\n",
      " -3.11486335e+04 -7.54433074e+00  5.28748572e-01 -2.91005431e+03\n",
      " -6.00168073e+03 -2.49057049e+01  7.61108920e+01 -4.53268112e+00\n",
      "  8.89032678e+00  2.42423396e+01  8.79455538e+02  2.64202738e+03\n",
      "  9.58907724e+02  5.22922609e+01  1.23228971e+02 -9.27808468e+01\n",
      " -1.38861322e+03 -5.80854498e+03 -2.23517418e-08  4.08541860e-01\n",
      "  1.07368497e+00 -4.02380208e-02  5.20632841e-02  3.91559797e-01\n",
      "  6.00168016e+03  6.00168053e+03  5.26202191e-03 -2.30171718e-04\n",
      " -1.20548756e+00  9.45889207e-01  3.53455544e-05  1.00769103e-06\n",
      "  2.80566887e+04 -1.01000473e+05 -1.53068002e+03  2.82268509e+04\n",
      "  3.04116398e+03 -1.79515468e+01 -5.73320944e+00 -1.63165443e+02\n",
      "  3.01146699e+01 -2.81962531e+04  6.54036781e+04  1.13769704e+01\n",
      " -2.94537156e-01  3.67480289e+07  6.55472959e+04  5.35395751e+04\n",
      " -1.17965218e+05  3.25240932e+01  4.36288708e+01  1.68731266e+03\n",
      " -3.69937025e+01  1.46246685e+06  1.19195970e+06  8.65617830e+01\n",
      "  4.95828594e+00  3.87640575e+03  1.13077788e+04  8.97006697e+03\n",
      "  1.28479630e+01 -1.69051832e+01  1.25243123e+02 -5.43709107e+00\n",
      "  4.62915988e+03  3.95240803e+04 -1.37212594e+01 -1.84397698e-01\n",
      " -3.26653979e+03  6.31134805e+02 -7.35080307e+00  1.74607153e+01\n",
      " -2.43686479e+02 -1.27392878e+01 -3.97206629e+04 -2.74001326e+03\n",
      "  4.32161979e+01 -1.15289499e-01 -1.56522870e+03  5.06982435e+00\n",
      "  1.93536634e+01 -9.91105266e+01  7.48947227e+00  1.42785129e+05\n",
      " -1.69751685e+05  1.26171579e+01 -4.86112278e-01  2.03061909e+03\n",
      "  2.29863470e+03 -9.57997293e+02 -5.23166777e+01  1.41816891e+02\n",
      " -1.35944314e+02  1.38859371e+03  5.80854511e+03  2.67988200e+02\n",
      " -9.58397321e+02 -5.22873589e+01 -4.51207629e+01 -1.06291765e+02\n",
      "  1.38864489e+03  5.80854465e+03  1.51016654e+01  1.24952396e-01\n",
      " -4.74253179e+03  4.69144036e+03 -1.69009477e+00  1.01253241e-02\n",
      "  1.03359195e+00 -8.61361095e+01  8.68531911e+01  6.39605416e-02\n",
      "  1.44330319e-04 -2.25651507e+06 -8.99898384e+05 -4.66988032e+01\n",
      " -2.43637847e+00 -1.03854400e+05 -9.12908867e+01  1.12427643e+00\n",
      "  2.03303182e-02 -3.74834053e-05  4.32133675e-07]\n",
      "-2763356990.9050183\n"
     ]
    }
   ],
   "source": [
    "x=p.drop(\"price\", axis=1)\n",
    "y= p['price'] \n",
    "x_train, x_test, y_train, y_test = train_test_split(x,y, test_size=0.2, random_state=10)\n",
    "lg=LinearRegression()\n",
    "poly=PolynomialFeatures(degree=2)\n",
    "xtr2 =poly.fit_transform(x_train)\n",
    "xtst2=poly.fit_transform(x_test)\n",
    "lg.fit(xtr2 , y_train)\n",
    "predicted=lg.predict(xtst2)\n",
    "\n",
    "print(\"R²= \", metrics.r2_score(y_test, predicted))\n",
    "print(\"MSE= \", metrics.mean_squared_error(y_test, predicted))\n",
    "print(lg.coef_)\n",
    "print(lg.intercept_)"
   ]
  },
  {
   "cell_type": "raw",
   "metadata": {},
   "source": [
    "In the polynomial model, when all features  were added, the model explains 80.77% of the variance of the price. Thus, this developed version of the model has a high explanatory power of the price. In the two cells below, we can compare the values of p_test with the predicted value: As an example, the predicted value of b[1]= 643184.1291 whereas the y_test[1]=575000"
   ]
  },
  {
   "cell_type": "code",
   "execution_count": 97,
   "metadata": {},
   "outputs": [
    {
     "data": {
      "text/plain": [
       "643184.1291766167"
      ]
     },
     "execution_count": 97,
     "metadata": {},
     "output_type": "execute_result"
    }
   ],
   "source": [
    "a=poly.fit_transform(x_test)\n",
    "b=lg.predict(a)\n",
    "b[1]\n",
    " "
   ]
  },
  {
   "cell_type": "code",
   "execution_count": 98,
   "metadata": {},
   "outputs": [
    {
     "data": {
      "text/plain": [
       "957       323000.0\n",
       "14143     690000.0\n",
       "19452     142000.0\n",
       "20510     560000.0\n",
       "18354     545000.0\n",
       "           ...    \n",
       "5349      386591.0\n",
       "11082     344950.0\n",
       "4413     1150000.0\n",
       "17461     622200.0\n",
       "9848      450000.0\n",
       "Name: price, Length: 4323, dtype: float64"
      ]
     },
     "execution_count": 98,
     "metadata": {},
     "output_type": "execute_result"
    }
   ],
   "source": [
    "y_test "
   ]
  },
  {
   "cell_type": "code",
   "execution_count": 99,
   "metadata": {},
   "outputs": [
    {
     "name": "stdout",
     "output_type": "stream",
     "text": [
      "[[0.86671733 0.39873715 1.44746357 ... 0.30607896 0.9433552  0.26071541]\n",
      " [0.00568792 0.39873715 0.1756067  ... 0.74634143 0.43268619 0.18786773]\n",
      " [0.98084935 1.47395936 1.44746357 ... 0.13565477 1.07013975 0.17237524]\n",
      " ...\n",
      " [0.37586519 1.47395936 1.77207762 ... 0.60432128 1.41025258 0.39414129]\n",
      " [0.38158814 0.39873715 0.50022075 ... 1.02891048 0.8412214  0.42051149]\n",
      " [0.58588173 1.47395936 1.77207762 ... 0.60432128 1.41025258 0.41794772]]\n"
     ]
    }
   ],
   "source": [
    "from scipy import stats\n",
    "zscore=np.abs(stats.zscore(p))\n",
    "print(zscore)"
   ]
  },
  {
   "cell_type": "raw",
   "metadata": {},
   "source": [
    "As there are many outliers in our data set, we use the technique of the zcore. All values that have a zscore in the interval [-3,3] should be deleted."
   ]
  },
  {
   "cell_type": "raw",
   "metadata": {},
   "source": [
    "After droping outliers, the new dataset p_clean will be used to predict prices."
   ]
  },
  {
   "cell_type": "code",
   "execution_count": 109,
   "metadata": {},
   "outputs": [],
   "source": [
    "p_clean=p[(zscore<=3).all(axis=1)]"
   ]
  },
  {
   "cell_type": "code",
   "execution_count": 110,
   "metadata": {},
   "outputs": [
    {
     "data": {
      "text/html": [
       "<div>\n",
       "<style scoped>\n",
       "    .dataframe tbody tr th:only-of-type {\n",
       "        vertical-align: middle;\n",
       "    }\n",
       "\n",
       "    .dataframe tbody tr th {\n",
       "        vertical-align: top;\n",
       "    }\n",
       "\n",
       "    .dataframe thead th {\n",
       "        text-align: right;\n",
       "    }\n",
       "</style>\n",
       "<table border=\"1\" class=\"dataframe\">\n",
       "  <thead>\n",
       "    <tr style=\"text-align: right;\">\n",
       "      <th></th>\n",
       "      <th>price</th>\n",
       "      <th>bedrooms</th>\n",
       "      <th>bathrooms</th>\n",
       "      <th>sqft_living</th>\n",
       "      <th>sqft_lot</th>\n",
       "      <th>floors</th>\n",
       "      <th>waterfront</th>\n",
       "      <th>view</th>\n",
       "      <th>condition</th>\n",
       "      <th>grade</th>\n",
       "      <th>sqft_above</th>\n",
       "      <th>sqft_basement</th>\n",
       "      <th>yr_built</th>\n",
       "      <th>yr_renovated</th>\n",
       "      <th>lat</th>\n",
       "      <th>long</th>\n",
       "      <th>sqft_living15</th>\n",
       "      <th>sqft_lot15</th>\n",
       "    </tr>\n",
       "  </thead>\n",
       "  <tbody>\n",
       "    <tr>\n",
       "      <th>0</th>\n",
       "      <td>221900.0</td>\n",
       "      <td>3</td>\n",
       "      <td>1.00</td>\n",
       "      <td>1180</td>\n",
       "      <td>5650</td>\n",
       "      <td>1.0</td>\n",
       "      <td>0</td>\n",
       "      <td>0</td>\n",
       "      <td>3</td>\n",
       "      <td>7</td>\n",
       "      <td>1180</td>\n",
       "      <td>0</td>\n",
       "      <td>1955</td>\n",
       "      <td>0</td>\n",
       "      <td>47.5112</td>\n",
       "      <td>-122.257</td>\n",
       "      <td>1340</td>\n",
       "      <td>5650</td>\n",
       "    </tr>\n",
       "    <tr>\n",
       "      <th>2</th>\n",
       "      <td>180000.0</td>\n",
       "      <td>2</td>\n",
       "      <td>1.00</td>\n",
       "      <td>770</td>\n",
       "      <td>10000</td>\n",
       "      <td>1.0</td>\n",
       "      <td>0</td>\n",
       "      <td>0</td>\n",
       "      <td>3</td>\n",
       "      <td>6</td>\n",
       "      <td>770</td>\n",
       "      <td>0</td>\n",
       "      <td>1933</td>\n",
       "      <td>0</td>\n",
       "      <td>47.7379</td>\n",
       "      <td>-122.233</td>\n",
       "      <td>2720</td>\n",
       "      <td>8062</td>\n",
       "    </tr>\n",
       "    <tr>\n",
       "      <th>3</th>\n",
       "      <td>604000.0</td>\n",
       "      <td>4</td>\n",
       "      <td>3.00</td>\n",
       "      <td>1960</td>\n",
       "      <td>5000</td>\n",
       "      <td>1.0</td>\n",
       "      <td>0</td>\n",
       "      <td>0</td>\n",
       "      <td>5</td>\n",
       "      <td>7</td>\n",
       "      <td>1050</td>\n",
       "      <td>910</td>\n",
       "      <td>1965</td>\n",
       "      <td>0</td>\n",
       "      <td>47.5208</td>\n",
       "      <td>-122.393</td>\n",
       "      <td>1360</td>\n",
       "      <td>5000</td>\n",
       "    </tr>\n",
       "    <tr>\n",
       "      <th>4</th>\n",
       "      <td>510000.0</td>\n",
       "      <td>3</td>\n",
       "      <td>2.00</td>\n",
       "      <td>1680</td>\n",
       "      <td>8080</td>\n",
       "      <td>1.0</td>\n",
       "      <td>0</td>\n",
       "      <td>0</td>\n",
       "      <td>3</td>\n",
       "      <td>8</td>\n",
       "      <td>1680</td>\n",
       "      <td>0</td>\n",
       "      <td>1987</td>\n",
       "      <td>0</td>\n",
       "      <td>47.6168</td>\n",
       "      <td>-122.045</td>\n",
       "      <td>1800</td>\n",
       "      <td>7503</td>\n",
       "    </tr>\n",
       "    <tr>\n",
       "      <th>6</th>\n",
       "      <td>257500.0</td>\n",
       "      <td>3</td>\n",
       "      <td>2.25</td>\n",
       "      <td>1715</td>\n",
       "      <td>6819</td>\n",
       "      <td>2.0</td>\n",
       "      <td>0</td>\n",
       "      <td>0</td>\n",
       "      <td>3</td>\n",
       "      <td>7</td>\n",
       "      <td>1715</td>\n",
       "      <td>0</td>\n",
       "      <td>1995</td>\n",
       "      <td>0</td>\n",
       "      <td>47.3097</td>\n",
       "      <td>-122.327</td>\n",
       "      <td>2238</td>\n",
       "      <td>6819</td>\n",
       "    </tr>\n",
       "    <tr>\n",
       "      <th>...</th>\n",
       "      <td>...</td>\n",
       "      <td>...</td>\n",
       "      <td>...</td>\n",
       "      <td>...</td>\n",
       "      <td>...</td>\n",
       "      <td>...</td>\n",
       "      <td>...</td>\n",
       "      <td>...</td>\n",
       "      <td>...</td>\n",
       "      <td>...</td>\n",
       "      <td>...</td>\n",
       "      <td>...</td>\n",
       "      <td>...</td>\n",
       "      <td>...</td>\n",
       "      <td>...</td>\n",
       "      <td>...</td>\n",
       "      <td>...</td>\n",
       "      <td>...</td>\n",
       "    </tr>\n",
       "    <tr>\n",
       "      <th>21608</th>\n",
       "      <td>360000.0</td>\n",
       "      <td>3</td>\n",
       "      <td>2.50</td>\n",
       "      <td>1530</td>\n",
       "      <td>1131</td>\n",
       "      <td>3.0</td>\n",
       "      <td>0</td>\n",
       "      <td>0</td>\n",
       "      <td>3</td>\n",
       "      <td>8</td>\n",
       "      <td>1530</td>\n",
       "      <td>0</td>\n",
       "      <td>2009</td>\n",
       "      <td>0</td>\n",
       "      <td>47.6993</td>\n",
       "      <td>-122.346</td>\n",
       "      <td>1530</td>\n",
       "      <td>1509</td>\n",
       "    </tr>\n",
       "    <tr>\n",
       "      <th>21609</th>\n",
       "      <td>400000.0</td>\n",
       "      <td>4</td>\n",
       "      <td>2.50</td>\n",
       "      <td>2310</td>\n",
       "      <td>5813</td>\n",
       "      <td>2.0</td>\n",
       "      <td>0</td>\n",
       "      <td>0</td>\n",
       "      <td>3</td>\n",
       "      <td>8</td>\n",
       "      <td>2310</td>\n",
       "      <td>0</td>\n",
       "      <td>2014</td>\n",
       "      <td>0</td>\n",
       "      <td>47.5107</td>\n",
       "      <td>-122.362</td>\n",
       "      <td>1830</td>\n",
       "      <td>7200</td>\n",
       "    </tr>\n",
       "    <tr>\n",
       "      <th>21610</th>\n",
       "      <td>402101.0</td>\n",
       "      <td>2</td>\n",
       "      <td>0.75</td>\n",
       "      <td>1020</td>\n",
       "      <td>1350</td>\n",
       "      <td>2.0</td>\n",
       "      <td>0</td>\n",
       "      <td>0</td>\n",
       "      <td>3</td>\n",
       "      <td>7</td>\n",
       "      <td>1020</td>\n",
       "      <td>0</td>\n",
       "      <td>2009</td>\n",
       "      <td>0</td>\n",
       "      <td>47.5944</td>\n",
       "      <td>-122.299</td>\n",
       "      <td>1020</td>\n",
       "      <td>2007</td>\n",
       "    </tr>\n",
       "    <tr>\n",
       "      <th>21611</th>\n",
       "      <td>400000.0</td>\n",
       "      <td>3</td>\n",
       "      <td>2.50</td>\n",
       "      <td>1600</td>\n",
       "      <td>2388</td>\n",
       "      <td>2.0</td>\n",
       "      <td>0</td>\n",
       "      <td>0</td>\n",
       "      <td>3</td>\n",
       "      <td>8</td>\n",
       "      <td>1600</td>\n",
       "      <td>0</td>\n",
       "      <td>2004</td>\n",
       "      <td>0</td>\n",
       "      <td>47.5345</td>\n",
       "      <td>-122.069</td>\n",
       "      <td>1410</td>\n",
       "      <td>1287</td>\n",
       "    </tr>\n",
       "    <tr>\n",
       "      <th>21612</th>\n",
       "      <td>325000.0</td>\n",
       "      <td>2</td>\n",
       "      <td>0.75</td>\n",
       "      <td>1020</td>\n",
       "      <td>1076</td>\n",
       "      <td>2.0</td>\n",
       "      <td>0</td>\n",
       "      <td>0</td>\n",
       "      <td>3</td>\n",
       "      <td>7</td>\n",
       "      <td>1020</td>\n",
       "      <td>0</td>\n",
       "      <td>2008</td>\n",
       "      <td>0</td>\n",
       "      <td>47.5941</td>\n",
       "      <td>-122.299</td>\n",
       "      <td>1020</td>\n",
       "      <td>1357</td>\n",
       "    </tr>\n",
       "  </tbody>\n",
       "</table>\n",
       "<p>18702 rows × 18 columns</p>\n",
       "</div>"
      ],
      "text/plain": [
       "          price  bedrooms  bathrooms  sqft_living  sqft_lot  floors  \\\n",
       "0      221900.0         3       1.00         1180      5650     1.0   \n",
       "2      180000.0         2       1.00          770     10000     1.0   \n",
       "3      604000.0         4       3.00         1960      5000     1.0   \n",
       "4      510000.0         3       2.00         1680      8080     1.0   \n",
       "6      257500.0         3       2.25         1715      6819     2.0   \n",
       "...         ...       ...        ...          ...       ...     ...   \n",
       "21608  360000.0         3       2.50         1530      1131     3.0   \n",
       "21609  400000.0         4       2.50         2310      5813     2.0   \n",
       "21610  402101.0         2       0.75         1020      1350     2.0   \n",
       "21611  400000.0         3       2.50         1600      2388     2.0   \n",
       "21612  325000.0         2       0.75         1020      1076     2.0   \n",
       "\n",
       "       waterfront  view  condition  grade  sqft_above  sqft_basement  \\\n",
       "0               0     0          3      7        1180              0   \n",
       "2               0     0          3      6         770              0   \n",
       "3               0     0          5      7        1050            910   \n",
       "4               0     0          3      8        1680              0   \n",
       "6               0     0          3      7        1715              0   \n",
       "...           ...   ...        ...    ...         ...            ...   \n",
       "21608           0     0          3      8        1530              0   \n",
       "21609           0     0          3      8        2310              0   \n",
       "21610           0     0          3      7        1020              0   \n",
       "21611           0     0          3      8        1600              0   \n",
       "21612           0     0          3      7        1020              0   \n",
       "\n",
       "       yr_built  yr_renovated      lat     long  sqft_living15  sqft_lot15  \n",
       "0          1955             0  47.5112 -122.257           1340        5650  \n",
       "2          1933             0  47.7379 -122.233           2720        8062  \n",
       "3          1965             0  47.5208 -122.393           1360        5000  \n",
       "4          1987             0  47.6168 -122.045           1800        7503  \n",
       "6          1995             0  47.3097 -122.327           2238        6819  \n",
       "...         ...           ...      ...      ...            ...         ...  \n",
       "21608      2009             0  47.6993 -122.346           1530        1509  \n",
       "21609      2014             0  47.5107 -122.362           1830        7200  \n",
       "21610      2009             0  47.5944 -122.299           1020        2007  \n",
       "21611      2004             0  47.5345 -122.069           1410        1287  \n",
       "21612      2008             0  47.5941 -122.299           1020        1357  \n",
       "\n",
       "[18702 rows x 18 columns]"
      ]
     },
     "execution_count": 110,
     "metadata": {},
     "output_type": "execute_result"
    }
   ],
   "source": [
    "p_clean"
   ]
  },
  {
   "cell_type": "code",
   "execution_count": 111,
   "metadata": {},
   "outputs": [
    {
     "name": "stdout",
     "output_type": "stream",
     "text": [
      "R²=  0.4849244361083207\n",
      "MSE=  29241306460.03266\n",
      "[-31094.80496682    124.39925627  91279.03601709]\n",
      "-386063.0916247051\n"
     ]
    }
   ],
   "source": [
    "x=p_clean[[  'bathrooms', 'sqft_living' , 'grade' ]]\n",
    "y=p_clean['price']  \n",
    "x_train, x_test, y_train, y_test = train_test_split(x,y, test_size=0.2, random_state=10)\n",
    "sr=LinearRegression()\n",
    "sr.fit(x_train,y_train)\n",
    "predicted=sr.predict(x_test) \n",
    "print(\"R²= \", metrics.r2_score(y_test, predicted))\n",
    "print(\"MSE= \", metrics.mean_squared_error(y_test, predicted))\n",
    "print(sr.coef_)\n",
    "print(sr.intercept_)"
   ]
  },
  {
   "cell_type": "raw",
   "metadata": {},
   "source": [
    " The value of R² in p_clean data set is so close to that of p. The prediction power of the model is not so high!"
   ]
  },
  {
   "cell_type": "code",
   "execution_count": 112,
   "metadata": {},
   "outputs": [
    {
     "name": "stdout",
     "output_type": "stream",
     "text": [
      "R²=  0.49875266117807937\n",
      "MSE=  28456265593.391678\n",
      "[ 0.00000000e+00 -1.44754056e+05 -1.79612582e+04  9.01421656e+01\n",
      "  3.62611582e+04 -4.22841646e+03  1.32811490e+00  7.05327022e+03\n",
      "  4.13811630e+00 -1.48810394e-03]\n",
      "164445.04501432006\n"
     ]
    }
   ],
   "source": [
    "x=p_clean[['bathrooms','grade','sqft_living' ]]\n",
    "y= p_clean['price'] \n",
    "x_train, x_test, y_train, y_test = train_test_split(x,y, test_size=0.2, random_state=10)\n",
    "lg=LinearRegression()\n",
    "poly=PolynomialFeatures(degree=2)\n",
    "xtr2 =poly.fit_transform(x_train)\n",
    "xtst2=poly.fit_transform(x_test)\n",
    "lg.fit(xtr2 , y_train)\n",
    "predicted=lg.predict(xtst2)\n",
    "\n",
    "print(\"R²= \", metrics.r2_score(y_test, predicted))\n",
    "print(\"MSE= \", metrics.mean_squared_error(y_test, predicted))\n",
    "print(lg.coef_)\n",
    "print(lg.intercept_)"
   ]
  },
  {
   "cell_type": "markdown",
   "metadata": {},
   "source": [
    " In the polynomial model, the value of R² in p_clean data set is so close to that of p. The prediction power of the model is not so high!"
   ]
  },
  {
   "cell_type": "code",
   "execution_count": 121,
   "metadata": {},
   "outputs": [
    {
     "name": "stdout",
     "output_type": "stream",
     "text": [
      "R²=  0.6849480131869068\n",
      "MSE=  17885786752.60399\n",
      "[-1.28062328e+04  2.95459918e+04  6.18513151e+01  3.21835569e-01\n",
      "  2.72513087e+04  2.58478394e-09  3.53693333e+04  3.05151743e+04\n",
      "  8.54628373e+04  3.50320612e+01  2.68192539e+01 -2.11754390e+03\n",
      "  0.00000000e+00  5.39365716e+05 -3.49279944e+04  4.69039210e+01\n",
      " -1.37012334e+00]\n",
      "-26341813.322945446\n"
     ]
    }
   ],
   "source": [
    "x=p_clean.drop(\"price\", axis=1)\n",
    "y= p_clean['price'] \n",
    "x_train, x_test, y_train, y_test = train_test_split(x,y, test_size=0.2, random_state=10)\n",
    "lg=LinearRegression()\n",
    " \n",
    "lg.fit(x_train , y_train)\n",
    "predicted=lg.predict(x_test)\n",
    "\n",
    "print(\"R²= \", metrics.r2_score(y_test, predicted))\n",
    "print(\"MSE= \", metrics.mean_squared_error(y_test, predicted))\n",
    "print(lg.coef_)\n",
    "print(lg.intercept_)"
   ]
  },
  {
   "cell_type": "code",
   "execution_count": 118,
   "metadata": {},
   "outputs": [
    {
     "name": "stdout",
     "output_type": "stream",
     "text": [
      "R²=  0.7558681567661725\n",
      "MSE=  13859585942.528389\n",
      "[ 1.40099185e+03  7.68547086e+06 -6.62595187e+06 -1.16954496e+04\n",
      "  3.73118122e+02 -1.23335349e+07 -4.90305558e+02  4.21644065e+06\n",
      "  4.41527891e+06 -2.00455460e+07 -3.52053175e+03 -8.81993312e+03\n",
      "  6.40318136e+05 -3.01689770e+02  1.34582710e+08  4.91541592e+07\n",
      "  1.20627106e+02 -8.02969947e+01 -6.01087109e+02  2.29120747e+02\n",
      " -7.99466259e+00  2.47626902e-01  5.34633802e+03 -6.90908183e-01\n",
      "  4.00213074e+03 -1.70963053e+03  6.75664499e+03 -1.10470732e+00\n",
      " -5.96316814e+00 -4.15900614e+02  1.84627812e-01 -2.37998951e+04\n",
      "  4.73971032e+04  1.21700540e+01 -1.36337275e-01  2.17840616e+02\n",
      "  1.90932448e+01 -1.88709968e-01 -2.83100094e+04  6.44096178e-03\n",
      " -7.00529412e+03 -9.22822170e+03  1.25647097e+04  1.97107344e+01\n",
      " -9.39168663e-01 -2.37208415e+01  6.13820985e-03  5.02749181e+04\n",
      " -3.48081978e+04 -2.38107173e+01 -2.15987104e-01  1.06938709e+02\n",
      " -1.96671094e+01  1.80461227e+01  3.47720060e-03 -5.23582617e+00\n",
      "  6.35669812e+00  1.15741337e+01 -9.97721182e+01 -8.03795072e+01\n",
      "  2.08419254e+01  3.05636960e-03  8.57392457e+01 -5.50390579e+01\n",
      " -4.57571827e+01  4.32079982e+00  1.05733052e-05 -1.03394567e+00\n",
      " -1.00356981e-04  1.05771200e+00 -3.57508551e-01 -3.82025059e-02\n",
      "  1.96671902e+01  1.96667679e+01  5.66349179e-03 -6.43160576e-04\n",
      " -1.45321899e+00  2.55538189e+00 -5.64851798e-04  4.98676673e-06\n",
      "  2.02761990e+04  9.91638080e-06 -4.05436992e+03  1.22553533e+04\n",
      " -6.62414334e+03  4.81348140e-01  1.75661344e+01  3.27372796e+02\n",
      "  1.10720430e-06 -2.60657040e+03 -9.57484935e+04  2.65209149e+01\n",
      "  9.06007197e-01  4.46506601e-06  9.62908962e-06  2.74088234e-06\n",
      "  7.60509283e-06 -1.19669130e-06 -1.47309038e-06  1.38327596e-06\n",
      "  2.37321365e-06 -3.04076821e-07 -9.57516022e-07 -5.91273420e-07\n",
      " -2.89542368e-06 -3.06273328e+04 -5.16876278e+03  5.06890929e+03\n",
      "  7.93890318e-01 -6.01956985e+00  1.63377029e+02 -2.87406147e-06\n",
      "  3.22909526e+04  4.89683942e+04 -5.19975483e+00 -8.54921986e-01\n",
      " -3.73837441e+03  5.58190837e+02 -1.50999197e+00  7.90816282e+00\n",
      " -2.01887249e+02  0.00000000e+00 -2.39617830e+04  2.37581831e+04\n",
      "  4.34291879e+01  3.36825297e-01  9.41890544e+02  9.51374510e+00\n",
      "  2.45040395e+00 -9.07128237e+01  0.00000000e+00  1.41673069e+05\n",
      " -1.10276400e+05 -3.48422408e+00 -9.90848948e-01 -7.18804076e+00\n",
      " -3.37411671e+01 -2.03837923e+01  0.00000000e+00  4.95719621e+01\n",
      " -9.40314481e+00  4.57251173e+01 -4.32096606e+00 -2.65895130e+01\n",
      " -2.00018798e+01  0.00000000e+00  4.02905787e+01 -5.00067502e+01\n",
      "  4.57450696e+01 -4.32142484e+00  1.19625412e+01  0.00000000e+00\n",
      " -5.93451468e+03  3.29310550e+03 -1.49245278e+00  5.78275644e-02\n",
      "  0.00000000e+00  0.00000000e+00  0.00000000e+00  0.00000000e+00\n",
      "  0.00000000e+00 -1.85479740e+06 -4.31845801e+05  4.28326612e+01\n",
      " -7.65735382e+00  1.40159410e+05 -4.84286602e+00 -2.71340768e+00\n",
      "  3.91459408e-02  1.73106743e-03  8.92020762e-06]\n",
      "-760049486.7659746\n"
     ]
    }
   ],
   "source": [
    "x=p_clean.drop(\"price\", axis=1)\n",
    "y= p_clean['price'] \n",
    "x_train, x_test, y_train, y_test = train_test_split(x,y, test_size=0.2, random_state=10)\n",
    "lg=LinearRegression()\n",
    "poly=PolynomialFeatures(degree=2)\n",
    "xtr2 =poly.fit_transform(x_train)\n",
    "xtst2=poly.fit_transform(x_test)\n",
    "lg.fit(xtr2 , y_train)\n",
    "predicted=lg.predict(xtst2)\n",
    "\n",
    "print(\"R²= \", metrics.r2_score(y_test, predicted))\n",
    "print(\"MSE= \", metrics.mean_squared_error(y_test, predicted))\n",
    "print(lg.coef_)\n",
    "print(lg.intercept_)"
   ]
  },
  {
   "cell_type": "raw",
   "metadata": {},
   "source": [
    "In the two types of models (polynomial and not polynomial),adding more features develops the explanaotory power of the model. However, the model becomes so complicated because there are a lot of variables. Giving the fact that there is no high increase in R², it would be interesting to minimize the number of features that explain prices. Hence, a simple model is more easy to interpret than a complicated one.\n",
    "                                            PRICE=p(sqft_living, bathrooms, grade)"
   ]
  }
 ],
 "metadata": {
  "kernelspec": {
   "display_name": "Python 3",
   "language": "python",
   "name": "python3"
  },
  "language_info": {
   "codemirror_mode": {
    "name": "ipython",
    "version": 3
   },
   "file_extension": ".py",
   "mimetype": "text/x-python",
   "name": "python",
   "nbconvert_exporter": "python",
   "pygments_lexer": "ipython3",
   "version": "3.7.6"
  }
 },
 "nbformat": 4,
 "nbformat_minor": 4
}
